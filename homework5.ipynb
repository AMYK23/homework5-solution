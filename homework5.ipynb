{
 "cells": [
  {
   "cell_type": "code",
   "execution_count": 1,
   "id": "7777e27e",
   "metadata": {},
   "outputs": [
    {
     "name": "stdout",
     "output_type": "stream",
     "text": [
      "{0: 'rest', 1: 'sweeties', 2: 'exercises'}\n"
     ]
    }
   ],
   "source": [
    "Activity_state = {\n",
    "    0: 'rest',\n",
    "    1: 'sweeties',\n",
    "    2: 'exercises'\n",
    "}\n",
    "\n",
    "state = Activity_state\n",
    "print(state)"
   ]
  },
  {
   "cell_type": "code",
   "execution_count": null,
   "id": "c53d4dce",
   "metadata": {},
   "outputs": [],
   "source": []
  },
  {
   "cell_type": "code",
   "execution_count": 2,
   "id": "3a9a23ac",
   "metadata": {},
   "outputs": [
    {
     "name": "stdout",
     "output_type": "stream",
     "text": [
      "[[0.2 0.2 0.6]\n",
      " [0.2 0.1 0.7]\n",
      " [0.1 0.3 0.6]]\n"
     ]
    }
   ],
   "source": [
    "import numpy as np\n",
    "\n",
    "transition_matrix = np.array([[0.2, 0.2, 0.6],\n",
    "                             [0.2, 0.1, 0.7],\n",
    "                             [0.1, 0.3, 0.6]])\n",
    "\n",
    "print(transition_matrix)\n"
   ]
  },
  {
   "cell_type": "code",
   "execution_count": null,
   "id": "8544772e",
   "metadata": {},
   "outputs": [],
   "source": []
  },
  {
   "cell_type": "code",
   "execution_count": 3,
   "id": "ce6cb58e",
   "metadata": {},
   "outputs": [
    {
     "name": "stdout",
     "output_type": "stream",
     "text": [
      "exercises ---->sweeties ---->exercises ---->sweeties ---->sweeties ---->rest ---->exercises ---->exercises ---->sweeties ---->sweeties ---->exercises ---->exercises ---->rest ---->rest ---->rest ---->"
     ]
    }
   ],
   "source": [
    "n = 15\n",
    "starting_state = 0\n",
    "previous_state = starting_state\n",
    "\n",
    "# Performing the random walk\n",
    "for i in range(n):\n",
    "    current_state = np.random.choice([0, 1, 2], p=transition_matrix[previous_state])\n",
    "    print(Activity_state[current_state], \"---->\", end=\"\")\n",
    "    # Update the previous state\n",
    "    previous_state = current_state"
   ]
  },
  {
   "cell_type": "code",
   "execution_count": null,
   "id": "ae155524",
   "metadata": {},
   "outputs": [],
   "source": []
  },
  {
   "cell_type": "code",
   "execution_count": 4,
   "id": "baabdfc9",
   "metadata": {},
   "outputs": [
    {
     "name": "stdout",
     "output_type": "stream",
     "text": [
      "Probability of activities on the 15th day:\n",
      "Rest: 0.13761467889913795\n",
      "Sweeties: 0.23853211009159786\n",
      "Exercises: 0.6238532110092636\n",
      "\n",
      "Probability of activities after 10,000 days:\n",
      "Rest: 0.13761467889903567\n",
      "Sweeties: 0.2385321100916618\n",
      "Exercises: 0.6238532110089617\n"
     ]
    }
   ],
   "source": [
    "import numpy as np\n",
    "\n",
    "# Transition matrix\n",
    "transition_matrix = np.array([[0.2, 0.2, 0.6],\n",
    "                             [0.2, 0.1, 0.7],\n",
    "                             [0.1, 0.3, 0.6]])\n",
    "\n",
    "# Starting state vector\n",
    "start_state = np.array([1, 0, 0])  # Rest is the starting state\n",
    "\n",
    "# Calculating probability after 15 days\n",
    "prob_15_days = start_state @ np.linalg.matrix_power(transition_matrix, 15)\n",
    "\n",
    "# Calculating probability after 10,000 days\n",
    "prob_10000_days = start_state @ np.linalg.matrix_power(transition_matrix, 10000)\n",
    "\n",
    "# Printing the respective probabilities\n",
    "print(\"Probability of activities on the 15th day:\")\n",
    "print(\"Rest:\", prob_15_days[0])\n",
    "print(\"Sweeties:\", prob_15_days[1])\n",
    "print(\"Exercises:\", prob_15_days[2])\n",
    "\n",
    "# Printing the respective probabilities\n",
    "print(\"\\nProbability of activities after 10,000 days:\")\n",
    "print(\"Rest:\", prob_10000_days[0])\n",
    "print(\"Sweeties:\", prob_10000_days[1])\n",
    "print(\"Exercises:\", prob_10000_days[2])\n"
   ]
  },
  {
   "cell_type": "code",
   "execution_count": null,
   "id": "e20e802c",
   "metadata": {},
   "outputs": [],
   "source": []
  },
  {
   "cell_type": "code",
   "execution_count": null,
   "id": "9c67f7d4",
   "metadata": {},
   "outputs": [],
   "source": [
    "3) What do you observe from the above two?\n",
    "\n",
    "\n",
    "Upon observation, we can notice that as the number of days increases, the probabilities of being in each state tend to stabilize. After a long duration, such as 10,000 days in this case, the probabilities converge to certain values. It indicates that the system reaches a steady distribution. Notably, the probabilities after 10,000 days are very similar to those after 15 days, suggesting that the distribution has reached equilibrium. As the number of steps or trials increases, the probabilities of different states become closer to each other. With a low number of trials, the model may yield higher probabilities for rest and sweets. However, as the number of trials increases, we observe that the probabilities settle around 13.76% for rest, 23.85% for sweets, and 62.39% for exercises.\n",
    "\n"
   ]
  }
 ],
 "metadata": {
  "kernelspec": {
   "display_name": "Python 3 (ipykernel)",
   "language": "python",
   "name": "python3"
  },
  "language_info": {
   "codemirror_mode": {
    "name": "ipython",
    "version": 3
   },
   "file_extension": ".py",
   "mimetype": "text/x-python",
   "name": "python",
   "nbconvert_exporter": "python",
   "pygments_lexer": "ipython3",
   "version": "3.10.9"
  }
 },
 "nbformat": 4,
 "nbformat_minor": 5
}
